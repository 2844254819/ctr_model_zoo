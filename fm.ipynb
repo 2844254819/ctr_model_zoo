{
 "cells": [
  {
   "cell_type": "code",
   "execution_count": 10,
   "metadata": {},
   "outputs": [],
   "source": [
    "import torch\n",
    "import torch.nn as nn\n",
    "\n",
    "from common import FirstOrder, SecondOrder"
   ]
  },
  {
   "cell_type": "code",
   "execution_count": 11,
   "metadata": {},
   "outputs": [],
   "source": [
    "class FM(nn.Module):\n",
    "    def __init__(self, params):\n",
    "        super(FMModel, self).__init__()\n",
    "        \n",
    "        # parse params\n",
    "        self.embedding_size = params['embedding_size']\n",
    "        self.feature_size = params['feature_size']\n",
    "        self.device = params['device']\n",
    "\n",
    "        self.first_order = FirstOrder({'device': self.device, \n",
    "                                       'feature_size': self.feature_size})\n",
    "        self.second_order = SecondOrder({'device': self.device, \n",
    "                                         'feature_size': self.feature_size,\n",
    "                                         'embedding_size': self.embedding_size})\n",
    "        \n",
    "        fm_bias = torch.empty(1, dtype=torch.float32, device=self.device, \n",
    "                              requires_grad=True)\n",
    "        nn.init.constant_(fm_bias, 0)\n",
    "        self.fm_bias = nn.Parameter(fm_bias)\n",
    "        \n",
    "    def forward(self, features):\n",
    "        feature_idx = features[\"feature_idx\"]\n",
    "        feature_values = features[\"feature_values\"]\n",
    "        \n",
    "        bias = self.fm_bias\n",
    "\n",
    "        first_order = self.first_order(feature_values, feature_idx)\n",
    "        first_order = torch.sum(first_order, dim=1)\n",
    "\n",
    "        second_order = self.second_order(feature_values, feature_idx)\n",
    "        second_order = torch.sum(second_order, dim=1)\n",
    "                \n",
    "        logits = second_order + first_order + bias\n",
    "\n",
    "        return logits"
   ]
  }
 ],
 "metadata": {
  "kernelspec": {
   "display_name": "Python 3",
   "language": "python",
   "name": "python3"
  },
  "language_info": {
   "codemirror_mode": {
    "name": "ipython",
    "version": 3
   },
   "file_extension": ".py",
   "mimetype": "text/x-python",
   "name": "python",
   "nbconvert_exporter": "python",
   "pygments_lexer": "ipython3",
   "version": "3.5.2"
  },
  "toc": {
   "base_numbering": 1,
   "nav_menu": {},
   "number_sections": true,
   "sideBar": true,
   "skip_h1_title": false,
   "title_cell": "Table of Contents",
   "title_sidebar": "Contents",
   "toc_cell": false,
   "toc_position": {},
   "toc_section_display": true,
   "toc_window_display": false
  }
 },
 "nbformat": 4,
 "nbformat_minor": 2
}
