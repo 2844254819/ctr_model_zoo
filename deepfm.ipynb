{
 "cells": [
  {
   "cell_type": "code",
   "execution_count": null,
   "metadata": {},
   "outputs": [],
   "source": [
    "'''\n",
    "Author:\n",
    "    Shenxin Zhan,zhanshenxin135@163.com\n",
    "    \n",
    "Reference:\n",
    "    https://arxiv.org/abs/1703.04247\n",
    "'''"
   ]
  },
  {
   "cell_type": "code",
   "execution_count": 1,
   "metadata": {},
   "outputs": [],
   "source": [
    "import torch\n",
    "import torch.nn as nn\n",
    "\n",
    "from common import MLP"
   ]
  },
  {
   "cell_type": "code",
   "execution_count": 2,
   "metadata": {},
   "outputs": [],
   "source": [
    "class DeepFM(nn.Module):\n",
    "    def __init__(self, params, get_embeddings=True, use_batchnorm=True, \n",
    "                 use_dropout=True, use_fm=True, use_deep=True):\n",
    "        super(DeepFM, self).__init__()\n",
    "        self.device = params['device']\n",
    "        self.mlp_input_dim = params['field_size'] * params['embedding_size']\n",
    "        self.use_fm = use_fm\n",
    "        self.use_deep = use_deep\n",
    "\n",
    "        self.first_order = FirstOrder(params)\n",
    "        self.second_order = SecondOrder(params, get_embeddings=get_embeddings)   \n",
    "        self.mlp = MLP(params, use_batchnorm=use_batchnorm, use_dropout=use_dropout)\n",
    "                \n",
    "        ## final concat layer\n",
    "        if self.use_fm and self.use_deep:\n",
    "            concat_size = params['field_size'] + params['embedding_size'] + \\\n",
    "                          params['hidden_dims'][-1]\n",
    "        elif self.use_deep:\n",
    "            concat_size = params['hidden_dims'][-1]\n",
    "        elif self.use_fm:\n",
    "            concat_size = params['field_size'] + params['embedding_size']\n",
    "        self.concat_layer = nn.Linear(concat_size, 1).to(self.device)\n",
    "\n",
    "    def forward(self, features):\n",
    "        # parse features\n",
    "        feature_idx = features[\"feature_idx\"]\n",
    "        feature_values = features[\"feature_values\"]\n",
    "                     \n",
    "        ## first order\n",
    "        first_order = self.first_order(feature_values, feature_idx)\n",
    "        \n",
    "        ## second order\n",
    "        second_order, embeddings = self.second_order(feature_values, feature_idx)\n",
    "                \n",
    "        # deep\n",
    "        deepInput = embeddings.reshape(embeddings.shape[0], self.mlp_input_dim)\n",
    "        deepOut = self.mlp(deepInput)\n",
    "        \n",
    "        # concat layer\n",
    "        if self.use_deep and self.use_fm:\n",
    "            concat = torch.cat([first_order, second_order, deepOut], dim=1)\n",
    "        elif self.use_deep:\n",
    "            concat = deepOut\n",
    "        elif self.use_fm:\n",
    "            concat = torch.cat([first_order, second_order], dim=1)\n",
    "                    \n",
    "        logits = self.concat_layer(concat)\n",
    "        \n",
    "        return logits"
   ]
  },
  {
   "cell_type": "code",
   "execution_count": null,
   "metadata": {},
   "outputs": [],
   "source": []
  }
 ],
 "metadata": {
  "kernelspec": {
   "display_name": "Python 3",
   "language": "python",
   "name": "python3"
  },
  "language_info": {
   "codemirror_mode": {
    "name": "ipython",
    "version": 3
   },
   "file_extension": ".py",
   "mimetype": "text/x-python",
   "name": "python",
   "nbconvert_exporter": "python",
   "pygments_lexer": "ipython3",
   "version": "3.5.2"
  },
  "toc": {
   "base_numbering": 1,
   "nav_menu": {},
   "number_sections": true,
   "sideBar": true,
   "skip_h1_title": false,
   "title_cell": "Table of Contents",
   "title_sidebar": "Contents",
   "toc_cell": false,
   "toc_position": {},
   "toc_section_display": true,
   "toc_window_display": false
  }
 },
 "nbformat": 4,
 "nbformat_minor": 2
}
