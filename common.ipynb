{
 "cells": [
  {
   "cell_type": "code",
   "execution_count": 3,
   "metadata": {},
   "outputs": [],
   "source": [
    "import torch\n",
    "import torch.nn as nn"
   ]
  },
  {
   "cell_type": "code",
   "execution_count": 4,
   "metadata": {},
   "outputs": [],
   "source": [
    "class FirstOrder(nn.Module):\n",
    "    def __init__(self, params):\n",
    "        super(FirstOrder, self).__init__()\n",
    "        # parse params\n",
    "        self.device = params['device']\n",
    "        self.feature_size = params['feature_size']\n",
    "        \n",
    "        weights_first_order = torch.empty(self.feature_size, 1, \n",
    "                                          dtype=torch.float32, device=self.device,\n",
    "                                          requires_grad=True)\n",
    "        nn.init.normal_(weights_first_order)\n",
    "        self.weights_first_order = nn.Parameter(weights_first_order)\n",
    "        \n",
    "    def forward(self, feature_values, feature_idx):  \n",
    "        weights_first_order = self.weights_first_order[feature_idx, :]\n",
    "        first_order = torch.mul(feature_values, weights_first_order.squeeze())\n",
    "        return first_order"
   ]
  },
  {
   "cell_type": "code",
   "execution_count": 5,
   "metadata": {},
   "outputs": [],
   "source": [
    "class SecondOrder(nn.Module):\n",
    "    def __init__(self, params, get_embeddings=False):\n",
    "        super(SecondOrder, self).__init__()\n",
    "        # parse params\n",
    "        self.device = params['device']\n",
    "        self.feature_size = params['feature_size']\n",
    "        self.embedding_size = params['embedding_size']\n",
    "        self.get_embeddings = get_embeddings\n",
    "        \n",
    "        feature_embeddings = torch.empty(self.feature_size, self.embedding_size, \n",
    "                              dtype=torch.float32, device=self.device, \n",
    "                              requires_grad=True)\n",
    "        nn.init.normal_(feature_embeddings)\n",
    "        self.feature_embeddings = nn.Parameter(feature_embeddings)\n",
    "        \n",
    "    def forward(self, feature_values, feature_idx):  \n",
    "        embeddings = self.feature_embeddings[feature_idx, :]\n",
    "        ## second order\n",
    "        temp1 = torch.pow(torch.einsum('bf,bfk->bk', (feature_values, embeddings)), 2)\n",
    "        temp2 = torch.einsum('bf,bfk->bk', (torch.pow(feature_values, 2), torch.pow(embeddings, 2)))\n",
    "        second_order = temp1-temp2\n",
    "        if self.get_embeddings:\n",
    "            return second_order, embeddings\n",
    "        else:\n",
    "            return second_order"
   ]
  },
  {
   "cell_type": "code",
   "execution_count": null,
   "metadata": {},
   "outputs": [],
   "source": []
  }
 ],
 "metadata": {
  "kernelspec": {
   "display_name": "Python 3",
   "language": "python",
   "name": "python3"
  },
  "language_info": {
   "codemirror_mode": {
    "name": "ipython",
    "version": 3
   },
   "file_extension": ".py",
   "mimetype": "text/x-python",
   "name": "python",
   "nbconvert_exporter": "python",
   "pygments_lexer": "ipython3",
   "version": "3.5.2"
  },
  "toc": {
   "base_numbering": 1,
   "nav_menu": {},
   "number_sections": true,
   "sideBar": true,
   "skip_h1_title": false,
   "title_cell": "Table of Contents",
   "title_sidebar": "Contents",
   "toc_cell": false,
   "toc_position": {},
   "toc_section_display": true,
   "toc_window_display": false
  }
 },
 "nbformat": 4,
 "nbformat_minor": 2
}
